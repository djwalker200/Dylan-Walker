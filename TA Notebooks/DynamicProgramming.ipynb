{
  "cells": [
    {
      "cell_type": "markdown",
      "id": "063f14df-f156-4e1d-b154-f8343699c589",
      "metadata": {
        "id": "063f14df-f156-4e1d-b154-f8343699c589"
      },
      "source": [
        "## Section 2: Dynamic Programming 9/2/22\n",
        "\n"
      ]
    },
    {
      "cell_type": "markdown",
      "id": "ddb0fa0d-83cd-4308-a381-8305715f9845",
      "metadata": {
        "id": "ddb0fa0d-83cd-4308-a381-8305715f9845"
      },
      "source": [
        "#### Problem: Longest Common Subsequence (LCS)\n",
        "\n",
        "The Longest Common Subsequence problem is to find the longest common subsequence between two sequences where the elements are not required to appear consecutively in the original sequences. For our purposes the sequences we will be considering will be strings of characters. As a first example lets consider the following two strings of letters:\n",
        "\n",
        "$$\\begin{align*} &ABCD \\\\ &ACDB \\end{align*}$$\n",
        "\n",
        "\n",
        "A naive way to solve this simple example is by writing out all of the possible subsequences and comparing.\n",
        "\n",
        "\n",
        "In this example we can see the longest common subsequence is $ACD$ with length 3. However, this is a small example with only a few characters in each string. What if we have strings of length 100, or 1000? The number of subsequences for a sequence of length $n$ is $O(2^n)$, meaning this approach cannot scale well. How can we use dynamic programming to efficiently solve this problem?\n"
      ]
    },
    {
      "cell_type": "markdown",
      "id": "980b8940-ea2e-43af-a09c-0ac065ffc9d2",
      "metadata": {
        "id": "980b8940-ea2e-43af-a09c-0ac065ffc9d2"
      },
      "source": [
        "#### Dynamic Programming Solution\n",
        "\n",
        "We will use a dynamic programming solution similar to the Manhattan Tourist problem in class to solve this problem. In addition to finding the length of the longest common subsequence we are also interested in finding which characters make up the LCS. For this reason we will also incorporate traceback. \n",
        "\n",
        "Let $seq1$ and $seq2$ be two sequences. Assume that $seq1$ has length $n$ and $seq2$ has length $m$. Now lets setup a $(n + 1) \\times (m + 1)$ grid. The first row and column will be filled with zeros and from there we will fill in entry $i,j$ as follows:\n",
        "\n",
        "\n",
        " - If $seq1[i]$ matches $seq2[j]$ then let add 1 to the value diagonal to position $i,j$\n",
        " - Otherwise let entry $i,j$ be the maximum of the entries from the previous row and column respectively\n",
        " \n",
        "We also want to be able to trace back to get the LCS string, so we will keep track of which previous entry was used in the formation of each new entry. To get the LCS string we can collect all of the characters along the path that have a diagonal pointer, since these are common letters to the LCS in both strings.\n",
        "\n",
        "Lets work through an example! Consider our two strings are $ABCDEF$ and $ABDCDFA$. Lets first set up our table:\n",
        "\n",
        "|   |   | A | B | C | D | E | F | \n",
        "|---|---|---|---|---|---|---|---|\n",
        "|   | 0 | 0 | 0 | 0 | 0 | 0 | 0 |\n",
        "| A | 0 |   |   |   |   |   |   |\n",
        "| B | 0 |   |   |   |   |   |   |\n",
        "| D | 0 |   |   |   |   |   |   |\n",
        "| C | 0 |   |   |   |   |   |   |\n",
        "| D | 0 |   |   |   |   |   |   |\n",
        "| F | 0 |   |   |   |   |   |   |\n",
        "| A | 0 |   |   |   |   |   |   |\n",
        "\n",
        "After filling out our table using the rules above we get the following. We will go over the back pointers on the board during section.\n",
        "\n",
        "|   |   | A | B | C | D | E | F |\n",
        "|---|---|---|---|---|---|---|---|\n",
        "|   | 0 | 0 | 0 | 0 | 0 | 0 | 0 |\n",
        "| A | 0 | 1 | 1 | 1 | 1 | 1 | 1 |\n",
        "| B | 0 | 1 | 2 | 2 | 2 | 2 | 2 |\n",
        "| D | 0 | 1 | 2 | 2 | 3 | 3 | 3 |\n",
        "| C | 0 | 1 | 2 | 3 | 3 | 3 | 3 |\n",
        "| D | 0 | 1 | 2 | 3 | 4 | 4 | 4 |\n",
        "| F | 0 | 1 | 2 | 3 | 4 | 4 | 5 |\n",
        "| A | 0 | 1 | 2 | 3 | 4 | 4 | 5 |\n",
        "\n",
        "From this we can see the length of the LCS is 5 and using backtracing we can find the LCS string is ABCDF! Now lets look at an implementation of this algorithm\n"
      ]
    },
    {
      "cell_type": "code",
      "execution_count": null,
      "id": "5ef1e772-4ce8-4595-9ccd-851cae9d31c3",
      "metadata": {
        "id": "5ef1e772-4ce8-4595-9ccd-851cae9d31c3"
      },
      "outputs": [],
      "source": [
        "# Computes the Longest Common Subsequence\n",
        "def LCS(str1,str2):\n",
        "    \n",
        "    # Lengths of the two strings\n",
        "    n,m = len(str1), len(str2)\n",
        "    \n",
        "    # Matrix to store the dynamic programming values\n",
        "    L = [[0 for x in range(n + 1)] for y in range(m + 1)]\n",
        "    \n",
        "    # Pointer matrix where\n",
        "    # 0 denotes diagonal pointer\n",
        "    # +1 denotes pointer to last column\n",
        "    # -1 denotes pointer to last row\n",
        "    pointers = [[0 for x in range(n + 1)] for y in range(m + 1)]\n",
        "    \n",
        "    # Iterates down and right through the matrix\n",
        "    for i in range(1,n+1):\n",
        "        for j in range(1,n+1):\n",
        "            \n",
        "            # If characters match add 1 to previous diagonal element\n",
        "            if str1[i-1] == str2[j-1]:\n",
        "                L[i][j] = L[i-1][j-1] + 1\n",
        "                \n",
        "            else:\n",
        "                # else take max of adjacent squares (previous row or previous column)\n",
        "                \n",
        "                L[i][j] = max(L[i-1][j],L[i][j-1])\n",
        "                \n",
        "                # If max was previous row -> store -1 pointer, previous col -> store +1 pointer\n",
        "                if L[i][j] == L[i-1][j]:\n",
        "                    pointers[i][j] = -1\n",
        "                else:\n",
        "                    pointers[i][j] = 1\n",
        "    \n",
        "    \n",
        "    # Construct the LCS string\n",
        "    lcs = \"\"\n",
        "    \n",
        "    # Starts backtracing at final grid location\n",
        "    i = n\n",
        "    j = m\n",
        "    \n",
        "     \n",
        "    while i > 0 and j > 0:\n",
        "        \n",
        "        # append the locations along the path where a diagonal pointer was used\n",
        "        if pointers[i][j] == 0:\n",
        "            lcs = str1[i - 1] + lcs\n",
        "            i = i - 1\n",
        "            j = j - 1\n",
        "        \n",
        "        # If pointer is -1 then move up 1 row, else move left 1 column\n",
        "        elif pointers[i][j] == -1:\n",
        "            i = i - 1\n",
        "        \n",
        "        else:\n",
        "            j = j - 1\n",
        "    \n",
        "    return lcs\n",
        "    "
      ]
    },
    {
      "cell_type": "markdown",
      "id": "9befded6-6ac6-4594-b210-00af278289d0",
      "metadata": {
        "id": "9befded6-6ac6-4594-b210-00af278289d0"
      },
      "source": [
        "First let's check this method for our hand-validated cases"
      ]
    },
    {
      "cell_type": "code",
      "execution_count": null,
      "id": "c314b733-ca9e-4343-a5a1-f853eea4bf81",
      "metadata": {
        "id": "c314b733-ca9e-4343-a5a1-f853eea4bf81",
        "outputId": "c5319d41-0e43-4944-be56-7d0af086a19a",
        "colab": {
          "base_uri": "https://localhost:8080/"
        }
      },
      "outputs": [
        {
          "output_type": "stream",
          "name": "stdout",
          "text": [
            "The longest Common Subsequence is: ACD\n",
            "The longest Common Subsequence is: ABCDF\n"
          ]
        }
      ],
      "source": [
        "str1 = \"ABCD\"\n",
        "str2 = \"ACDB\"\n",
        "print(f\"The longest Common Subsequence is: {LCS(str1,str2)}\")\n",
        "\n",
        "str1 = \"ABCDEF\"\n",
        "str2 = \"ABDCDF\"\n",
        "print(f\"The longest Common Subsequence is: {LCS(str1,str2)}\")"
      ]
    },
    {
      "cell_type": "markdown",
      "id": "14823b2d-9bcb-400e-8d26-6fae02086472",
      "metadata": {
        "id": "14823b2d-9bcb-400e-8d26-6fae02086472"
      },
      "source": [
        "Recall that the brute-force approach of generating all possible subsequences is exponential in the length of the two sequences ($O(2^{m+n})$). Our dynamic programming approach allows us to solve this problem in $O(mn)$ time. "
      ]
    },
    {
      "cell_type": "code",
      "execution_count": null,
      "id": "36423c1c-6d37-4736-b900-81b6196ed917",
      "metadata": {
        "id": "36423c1c-6d37-4736-b900-81b6196ed917",
        "outputId": "31d6a46d-b26b-47db-c010-c152c3bd787e",
        "colab": {
          "base_uri": "https://localhost:8080/"
        }
      },
      "outputs": [
        {
          "output_type": "stream",
          "name": "stdout",
          "text": [
            "String 1: FNATAMRYFGMEPVSYMVBDXIXNAECRZZNLQVIBALFKAALDDOTLZVPYYHMXOFAMKLILHZFZESIWXVSOMFRQLJFVFAIRHAIGBHCYWZPU\n",
            "String 2: NPONOGQGJEOIUXIPYHDNORYMIFRFEGSUATTQYZTTVGPIUQQTSCDZNVGGHFHIJDCDOHVVYQUVNYSBPASVUTBZOYCVCLYRATYFRNSN\n",
            "The longest Common Subsequence is: NMRFGSYVICZNVIDDOVYYASVOLRAY with length 28\n",
            "Time 0.015682220458984375\n",
            "The longest Common Subsequence is: FBVDDOVEHHHPMLDBYCAMSLLTHLFNWCKOQANYMYEXTRECOMJZCFCIWRFSCDMHGBLNQOYJQJGEYWPROOLVHTRKRJFGNBRJPWRPBJXXYEQQQYVRQYEXSMCRYPYEUOGZZMACZEUTNMMHKFFEAIUWDGUBDMJKUCNEDTBKGGGFRRSHLWEFNWIOPVQCTIKPOJGOMFHFEAHENXKJNIKBHQMPOCXFCNMQMFUZUVHVADFVEETPGYRGRSXWIIGMMCERGCDWRIHMSUIZNIEKCQEYGOHYWAFUZOCRVFRZLKYYHEGHKJTYQBHCGSOPXXYPAYTYVTIYELVOOQWNHNS with length 327\n",
            "Time 1.0134904384613037\n"
          ]
        }
      ],
      "source": [
        "import random\n",
        "import time\n",
        "import string\n",
        "\n",
        "N = 100 \n",
        "str1 = ''.join(random.choices(string.ascii_uppercase, k=N))\n",
        "str2 = ''.join(random.choices(string.ascii_uppercase,k=N))\n",
        "\n",
        "print(\"String 1:\",str1)\n",
        "print(\"String 2:\",str2)\n",
        "\n",
        "start = time.time()\n",
        "\n",
        "lcs = LCS(str1,str2)\n",
        "\n",
        "print(f\"The longest Common Subsequence is: {lcs} with length {len(lcs)}\")\n",
        "print(\"Time\",time.time() - start)\n",
        "\n",
        "\n",
        "N = 1000\n",
        "str1 = ''.join(random.choices(string.ascii_uppercase, k=N))\n",
        "str2 = ''.join(random.choices(string.ascii_uppercase,k=N))\n",
        "\n",
        "start = time.time()\n",
        "\n",
        "lcs = LCS(str1,str2)\n",
        "\n",
        "print(f\"The longest Common Subsequence is: {lcs} with length {len(lcs)}\")\n",
        "print(\"Time\",time.time() - start)"
      ]
    },
    {
      "cell_type": "code",
      "execution_count": null,
      "id": "5e1d41d7-3aab-481a-ac70-3fe68df4b751",
      "metadata": {
        "id": "5e1d41d7-3aab-481a-ac70-3fe68df4b751"
      },
      "outputs": [],
      "source": []
    }
  ],
  "metadata": {
    "kernelspec": {
      "display_name": "Python 3",
      "language": "python",
      "name": "python3"
    },
    "language_info": {
      "codemirror_mode": {
        "name": "ipython",
        "version": 3
      },
      "file_extension": ".py",
      "mimetype": "text/x-python",
      "name": "python",
      "nbconvert_exporter": "python",
      "pygments_lexer": "ipython3",
      "version": "3.8.8"
    },
    "colab": {
      "provenance": []
    }
  },
  "nbformat": 4,
  "nbformat_minor": 5
}