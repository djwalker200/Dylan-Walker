{
  "nbformat": 4,
  "nbformat_minor": 0,
  "metadata": {
    "colab": {
      "provenance": []
    },
    "kernelspec": {
      "name": "python3",
      "display_name": "Python 3"
    },
    "language_info": {
      "name": "python"
    }
  },
  "cells": [
    {
      "cell_type": "markdown",
      "source": [
        "# Section 7: Monte Carlo"
      ],
      "metadata": {
        "id": "xsxsYY1e-oYD"
      }
    },
    {
      "cell_type": "markdown",
      "source": [
        "Monte Carlo simulation is a useful tool for estimating the probability distribution of complex outcomes that rely on random variables. We can estimate these random variables if we know information about their distributions. From these estimations we can repeatedly evaluate our outcome to get a distribution over the likelihood of all possible outcomes.\n",
        "\n",
        "\n",
        "For example assume that we have a function $f(X,Y)$ that depends on two random variables $X$ and $Y$. Now assume that $X \\sim D_x$ and $Y \\sim D_y$. We can sample two random points $x$ and $y$ from these distributions in order to estimate the expected value of $f$ by $\\mathbb{E}f(X,Y) = f(x,y)$. \n",
        " \n",
        "However this is unlikely to be a good estimate since we only used a single random sample. Now assume we draw $N$ samples $(x_1,\\dots,x_N)$ and $(y_1,\\dots,y_N)$. The law of large numbers will allow us to get an improved estimate as we increase $N$.\n",
        "\n",
        " $$ \\mathbb{E}f(X,Y) = \\underset{N\\to \\infty}{lim} \\frac{1}{N} \\sum_{i=1}^{N} f(x_i,y_i)$$\n",
        "\n",
        "Drawing a large $N$ number of samples also allows us to approximate the probability distribution over the outcomes of $f$."
      ],
      "metadata": {
        "id": "RaUVui9H-nHS"
      }
    },
    {
      "cell_type": "markdown",
      "source": [
        "# Example 1: Sum of Random Dice\n",
        "\n",
        "For an introductory example we will estimate the probability distribution and expected value of summing two randomly rolled standard dice. This problem can be solved relatively easy by hand if we were to write out each of the 36 possible combinations, where we would get the following distribtuion:\n",
        "\n"
      ],
      "metadata": {
        "id": "UcAVZPLn2LND"
      }
    },
    {
      "cell_type": "code",
      "source": [
        "import numpy as np\n",
        "import matplotlib.pyplot as plt\n",
        "import pandas as pd\n",
        "\n",
        "data = np.array([[2,1/36],[3,2/36],[4,3/36],[5,4/36],[6,5/36],[7,6/36],[8,5/36],[9,4/36],[10,3/36],[11,2/36],[12,1/36]])\n",
        "print(f\"Expected value of two-dice sum: {np.sum(np.prod(data,axis=1))}\")\n",
        "pd.DataFrame(data, columns=[\"Sum\", \"Probability\"])\n"
      ],
      "metadata": {
        "colab": {
          "base_uri": "https://localhost:8080/",
          "height": 412
        },
        "id": "e8DlK6vFGwRF",
        "outputId": "61aa7adb-f455-4bb9-f9eb-183f5c5f7fce"
      },
      "execution_count": null,
      "outputs": [
        {
          "output_type": "stream",
          "name": "stdout",
          "text": [
            "Expected value of two-dice sum: 6.999999999999998\n"
          ]
        },
        {
          "output_type": "execute_result",
          "data": {
            "text/plain": [
              "     Sum  Probability\n",
              "0    2.0     0.027778\n",
              "1    3.0     0.055556\n",
              "2    4.0     0.083333\n",
              "3    5.0     0.111111\n",
              "4    6.0     0.138889\n",
              "5    7.0     0.166667\n",
              "6    8.0     0.138889\n",
              "7    9.0     0.111111\n",
              "8   10.0     0.083333\n",
              "9   11.0     0.055556\n",
              "10  12.0     0.027778"
            ],
            "text/html": [
              "\n",
              "  <div id=\"df-9b06a516-d995-46ee-8a8a-cd2e6c39927c\">\n",
              "    <div class=\"colab-df-container\">\n",
              "      <div>\n",
              "<style scoped>\n",
              "    .dataframe tbody tr th:only-of-type {\n",
              "        vertical-align: middle;\n",
              "    }\n",
              "\n",
              "    .dataframe tbody tr th {\n",
              "        vertical-align: top;\n",
              "    }\n",
              "\n",
              "    .dataframe thead th {\n",
              "        text-align: right;\n",
              "    }\n",
              "</style>\n",
              "<table border=\"1\" class=\"dataframe\">\n",
              "  <thead>\n",
              "    <tr style=\"text-align: right;\">\n",
              "      <th></th>\n",
              "      <th>Sum</th>\n",
              "      <th>Probability</th>\n",
              "    </tr>\n",
              "  </thead>\n",
              "  <tbody>\n",
              "    <tr>\n",
              "      <th>0</th>\n",
              "      <td>2.0</td>\n",
              "      <td>0.027778</td>\n",
              "    </tr>\n",
              "    <tr>\n",
              "      <th>1</th>\n",
              "      <td>3.0</td>\n",
              "      <td>0.055556</td>\n",
              "    </tr>\n",
              "    <tr>\n",
              "      <th>2</th>\n",
              "      <td>4.0</td>\n",
              "      <td>0.083333</td>\n",
              "    </tr>\n",
              "    <tr>\n",
              "      <th>3</th>\n",
              "      <td>5.0</td>\n",
              "      <td>0.111111</td>\n",
              "    </tr>\n",
              "    <tr>\n",
              "      <th>4</th>\n",
              "      <td>6.0</td>\n",
              "      <td>0.138889</td>\n",
              "    </tr>\n",
              "    <tr>\n",
              "      <th>5</th>\n",
              "      <td>7.0</td>\n",
              "      <td>0.166667</td>\n",
              "    </tr>\n",
              "    <tr>\n",
              "      <th>6</th>\n",
              "      <td>8.0</td>\n",
              "      <td>0.138889</td>\n",
              "    </tr>\n",
              "    <tr>\n",
              "      <th>7</th>\n",
              "      <td>9.0</td>\n",
              "      <td>0.111111</td>\n",
              "    </tr>\n",
              "    <tr>\n",
              "      <th>8</th>\n",
              "      <td>10.0</td>\n",
              "      <td>0.083333</td>\n",
              "    </tr>\n",
              "    <tr>\n",
              "      <th>9</th>\n",
              "      <td>11.0</td>\n",
              "      <td>0.055556</td>\n",
              "    </tr>\n",
              "    <tr>\n",
              "      <th>10</th>\n",
              "      <td>12.0</td>\n",
              "      <td>0.027778</td>\n",
              "    </tr>\n",
              "  </tbody>\n",
              "</table>\n",
              "</div>\n",
              "      <button class=\"colab-df-convert\" onclick=\"convertToInteractive('df-9b06a516-d995-46ee-8a8a-cd2e6c39927c')\"\n",
              "              title=\"Convert this dataframe to an interactive table.\"\n",
              "              style=\"display:none;\">\n",
              "        \n",
              "  <svg xmlns=\"http://www.w3.org/2000/svg\" height=\"24px\"viewBox=\"0 0 24 24\"\n",
              "       width=\"24px\">\n",
              "    <path d=\"M0 0h24v24H0V0z\" fill=\"none\"/>\n",
              "    <path d=\"M18.56 5.44l.94 2.06.94-2.06 2.06-.94-2.06-.94-.94-2.06-.94 2.06-2.06.94zm-11 1L8.5 8.5l.94-2.06 2.06-.94-2.06-.94L8.5 2.5l-.94 2.06-2.06.94zm10 10l.94 2.06.94-2.06 2.06-.94-2.06-.94-.94-2.06-.94 2.06-2.06.94z\"/><path d=\"M17.41 7.96l-1.37-1.37c-.4-.4-.92-.59-1.43-.59-.52 0-1.04.2-1.43.59L10.3 9.45l-7.72 7.72c-.78.78-.78 2.05 0 2.83L4 21.41c.39.39.9.59 1.41.59.51 0 1.02-.2 1.41-.59l7.78-7.78 2.81-2.81c.8-.78.8-2.07 0-2.86zM5.41 20L4 18.59l7.72-7.72 1.47 1.35L5.41 20z\"/>\n",
              "  </svg>\n",
              "      </button>\n",
              "      \n",
              "  <style>\n",
              "    .colab-df-container {\n",
              "      display:flex;\n",
              "      flex-wrap:wrap;\n",
              "      gap: 12px;\n",
              "    }\n",
              "\n",
              "    .colab-df-convert {\n",
              "      background-color: #E8F0FE;\n",
              "      border: none;\n",
              "      border-radius: 50%;\n",
              "      cursor: pointer;\n",
              "      display: none;\n",
              "      fill: #1967D2;\n",
              "      height: 32px;\n",
              "      padding: 0 0 0 0;\n",
              "      width: 32px;\n",
              "    }\n",
              "\n",
              "    .colab-df-convert:hover {\n",
              "      background-color: #E2EBFA;\n",
              "      box-shadow: 0px 1px 2px rgba(60, 64, 67, 0.3), 0px 1px 3px 1px rgba(60, 64, 67, 0.15);\n",
              "      fill: #174EA6;\n",
              "    }\n",
              "\n",
              "    [theme=dark] .colab-df-convert {\n",
              "      background-color: #3B4455;\n",
              "      fill: #D2E3FC;\n",
              "    }\n",
              "\n",
              "    [theme=dark] .colab-df-convert:hover {\n",
              "      background-color: #434B5C;\n",
              "      box-shadow: 0px 1px 3px 1px rgba(0, 0, 0, 0.15);\n",
              "      filter: drop-shadow(0px 1px 2px rgba(0, 0, 0, 0.3));\n",
              "      fill: #FFFFFF;\n",
              "    }\n",
              "  </style>\n",
              "\n",
              "      <script>\n",
              "        const buttonEl =\n",
              "          document.querySelector('#df-9b06a516-d995-46ee-8a8a-cd2e6c39927c button.colab-df-convert');\n",
              "        buttonEl.style.display =\n",
              "          google.colab.kernel.accessAllowed ? 'block' : 'none';\n",
              "\n",
              "        async function convertToInteractive(key) {\n",
              "          const element = document.querySelector('#df-9b06a516-d995-46ee-8a8a-cd2e6c39927c');\n",
              "          const dataTable =\n",
              "            await google.colab.kernel.invokeFunction('convertToInteractive',\n",
              "                                                     [key], {});\n",
              "          if (!dataTable) return;\n",
              "\n",
              "          const docLinkHtml = 'Like what you see? Visit the ' +\n",
              "            '<a target=\"_blank\" href=https://colab.research.google.com/notebooks/data_table.ipynb>data table notebook</a>'\n",
              "            + ' to learn more about interactive tables.';\n",
              "          element.innerHTML = '';\n",
              "          dataTable['output_type'] = 'display_data';\n",
              "          await google.colab.output.renderOutput(dataTable, element);\n",
              "          const docLink = document.createElement('div');\n",
              "          docLink.innerHTML = docLinkHtml;\n",
              "          element.appendChild(docLink);\n",
              "        }\n",
              "      </script>\n",
              "    </div>\n",
              "  </div>\n",
              "  "
            ]
          },
          "metadata": {},
          "execution_count": 1
        }
      ]
    },
    {
      "cell_type": "code",
      "source": [
        "plt.plot(data[:,0],data[:,1],'b-x')\n",
        "plt.legend([\"Probability\"])\n",
        "plt.ylim([0,0.2])\n",
        "plt.title(\"Probability Density for the sum of two dice\")\n",
        "plt.show()"
      ],
      "metadata": {
        "colab": {
          "base_uri": "https://localhost:8080/",
          "height": 281
        },
        "id": "IinpgOpvIXhS",
        "outputId": "9c7757c3-cc8b-4045-b672-c69f47f99528"
      },
      "execution_count": null,
      "outputs": [
        {
          "output_type": "display_data",
          "data": {
            "text/plain": [
              "<Figure size 432x288 with 1 Axes>"
            ],
            "image/png": "[encoded data removed]"
          },
          "metadata": {
            "needs_background": "light"
          }
        }
      ]
    },
    {
      "cell_type": "markdown",
      "source": [
        "Now we can estimate this distribution with a Monte Carlo simulation. How can we model this as a monte carlo simulation. Here are some questions to think about:\n",
        "\n",
        "1. What are our random variables $X$ and $Y$?\n",
        "2. What distributions are $X$ and $Y$ sampled from?\n",
        "3. What is the function $f$ we are trying to estimate and how does it relate to $X$ and $Y$?\n",
        "\n",
        "Once we've answered these questions we can begin implementing the template function below diceSumMonteCarlo()."
      ],
      "metadata": {
        "id": "mYV4PIDWJQdL"
      }
    },
    {
      "cell_type": "code",
      "source": [
        "# N is a hyperparameter that denotes how many iterations the simulation runs\n",
        "\n",
        "# This function should run a monte carlo estimation of the sum of two dice over N iterations and store\n",
        "# the result of each iteration into 'results'\n",
        "def diceSumMonteCarlo(N=1000):\n",
        "\n",
        "  # Numpy Implementation\n",
        "  '''\n",
        "  rolls = np.random.randint(1,7,size=(2,N))\n",
        "  results = np.sum(rolls,axis=0)\n",
        "  return results\n",
        "  '''\n",
        "\n",
        "  # Loop Implementation\n",
        "  results = []\n",
        "  for i in range(N):\n",
        "    d1 = np.random.randint(1,7)\n",
        "    d2 = np.random.randint(1,7)\n",
        "    results.append(d1 + d2)\n",
        "\n",
        "  return np.array(results)\n"
      ],
      "metadata": {
        "id": "UCUx_aferPNR"
      },
      "execution_count": null,
      "outputs": []
    },
    {
      "cell_type": "code",
      "source": [
        "dist = diceSumMonteCarlo(100)\n",
        "print(f\"Estimated Expected Value of 2-Dice Sum: {np.mean(dist)}\")\n",
        "plt.hist(dist,density=True)\n",
        "plt.show()\n",
        "\n",
        "dist = diceSumMonteCarlo(1000)\n",
        "print(f\"Estimated Expected Value of 2-Dice Sum: {np.mean(dist)}\")\n",
        "plt.hist(dist,density=True)\n",
        "plt.show()\n",
        "\n",
        "dist = diceSumMonteCarlo(100000)\n",
        "print(f\"Estimated Expected Value of 2-Dice Sum: {np.mean(dist)}\")\n",
        "plt.hist(dist,density=True)\n",
        "plt.show()\n",
        "\n"
      ],
      "metadata": {
        "colab": {
          "base_uri": "https://localhost:8080/",
          "height": 815
        },
        "id": "ZYMu6entugsC",
        "outputId": "4f3b2eaa-c0a9-4bff-a6f8-adb29d1c42ec"
      },
      "execution_count": null,
      "outputs": [
        {
          "output_type": "stream",
          "name": "stdout",
          "text": [
            "Estimated Expected Value of 2-Dice Sum: 6.85\n"
          ]
        },
        {
          "output_type": "display_data",
          "data": {
            "text/plain": [
              "<Figure size 432x288 with 1 Axes>"
            ],
            "image/png": "[encoded data removed]"
          },
          "metadata": {
            "needs_background": "light"
          }
        },
        {
          "output_type": "stream",
          "name": "stdout",
          "text": [
            "Estimated Expected Value of 2-Dice Sum: 6.996\n"
          ]
        },
        {
          "output_type": "display_data",
          "data": {
            "text/plain": [
              "<Figure size 432x288 with 1 Axes>"
            ],
            "image/png": "[encoded data removed]"
          },
          "metadata": {
            "needs_background": "light"
          }
        },
        {
          "output_type": "stream",
          "name": "stdout",
          "text": [
            "Estimated Expected Value of 2-Dice Sum: 7.00416\n"
          ]
        },
        {
          "output_type": "display_data",
          "data": {
            "text/plain": [
              "<Figure size 432x288 with 1 Axes>"
            ],
            "image/png": "[encoded data removed]"
          },
          "metadata": {
            "needs_background": "light"
          }
        }
      ]
    },
    {
      "cell_type": "markdown",
      "source": [
        "# Example 2: Sum of Multiple Random Dice\n",
        "\n",
        "For a second intro example lets look at taking the sum of an arbitrary number of identical dice. Let $d$ denote the number of dice. Before implementing we can ask ourselves similiar questions to the previous problem:\n",
        "\n",
        "1. What are our random variables and how will we represent them?\n",
        "2. What distributions are our random variables drawn from?\n",
        "3. What is the function $f$ we are trying to estimate and how does it relate to our random variables?\n",
        "\n",
        "After addressing these we can implement a monte carlo simulation to the function MultiDiceSum()"
      ],
      "metadata": {
        "id": "TJRdZHgV9te1"
      }
    },
    {
      "cell_type": "code",
      "source": [
        "# d is the number of dice\n",
        "# N is the number of simulation iterations\n",
        "\n",
        "# This function should return a numpy array 'results' that has N entries,\n",
        "# where each entry is the outcome of a single iteration\n",
        "\n",
        "def MultiDiceSum(d=2,N=1000):\n",
        "\n",
        "  # Numpy Implementation\n",
        "  '''\n",
        "  rolls = np.random.randint(1,7,size=(d,N))\n",
        "  results = np.sum(rolls,axis=0)\n",
        "  return results\n",
        "  '''\n",
        "\n",
        "  # Loop Implementation\n",
        "  results = []\n",
        "  for i in range(N):\n",
        "    sum = 0\n",
        "    for die in range(d):\n",
        "      sum += np.random.randint(1,7)\n",
        "    results.append(sum)\n",
        "\n",
        "  return np.array(results)"
      ],
      "metadata": {
        "id": "sK26W3KCwKXY"
      },
      "execution_count": null,
      "outputs": []
    },
    {
      "cell_type": "code",
      "source": [
        "dist = MultiDiceSum(d=3,N=10000)\n",
        "print(f\"Estimated Expected Value of 3-Dice Sum: {np.mean(dist)}\")\n",
        "plt.hist(dist,density=True)\n",
        "plt.show()\n",
        "\n",
        "dist = MultiDiceSum(d=10,N=10000)\n",
        "print(f\"Estimated Expected Value of 10-Dice Sum: {np.mean(dist)}\")\n",
        "plt.hist(dist,density=True)\n",
        "plt.show()\n",
        "\n",
        "dist = MultiDiceSum(d=100,N=10000)\n",
        "print(f\"Estimated Expected Value of 10-Dice Sum: {np.mean(dist)}\")\n",
        "plt.hist(dist,density=True)\n",
        "plt.show()"
      ],
      "metadata": {
        "colab": {
          "base_uri": "https://localhost:8080/",
          "height": 815
        },
        "id": "vcit7Wf9wuxN",
        "outputId": "742dd6ff-dc54-4906-cb28-34f94051d00a"
      },
      "execution_count": null,
      "outputs": [
        {
          "output_type": "stream",
          "name": "stdout",
          "text": [
            "Estimated Expected Value of 3-Dice Sum: 10.504\n"
          ]
        },
        {
          "output_type": "display_data",
          "data": {
            "text/plain": [
              "<Figure size 432x288 with 1 Axes>"
            ],
            "image/png": "[encoded data removed]"
          },
          "metadata": {
            "needs_background": "light"
          }
        },
        {
          "output_type": "stream",
          "name": "stdout",
          "text": [
            "Estimated Expected Value of 10-Dice Sum: 34.9627\n"
          ]
        },
        {
          "output_type": "display_data",
          "data": {
            "text/plain": [
              "<Figure size 432x288 with 1 Axes>"
            ],
            "image/png": "[encoded data removed]"
          },
          "metadata": {
            "needs_background": "light"
          }
        },
        {
          "output_type": "stream",
          "name": "stdout",
          "text": [
            "Estimated Expected Value of 10-Dice Sum: 350.0873\n"
          ]
        },
        {
          "output_type": "display_data",
          "data": {
            "text/plain": [
              "<Figure size 432x288 with 1 Axes>"
            ],
            "image/png": "[encoded data removed]"
          },
          "metadata": {
            "needs_background": "light"
          }
        }
      ]
    },
    {
      "cell_type": "markdown",
      "source": [
        "# Example 3: Monte Carlo Integration\n",
        "\n",
        "Assume we have a function $h(x)$ on the real numbers we are trying to integrate between two points $a$ and $b$. We can approximate this in many ways like Riemann sums with multiple points. What if we try to approximate this integral using only a single point $x^*$ at a time (between $a$ and $b$). We can do this geometrically by remembering that the integral measures the area under the curve, so we can approximate it with a rectangle of height $h(x^*)$ and width $b-a$.\n",
        "\n",
        "$$ \\int_a^b h(x) dx \\approx (b-a) h(x^*)$$\n",
        "\n",
        "Again this measure is likely to be a poor estimate of the true integral, but we can improve the estimate by randomly sampling many values $x^*$.\n",
        "\n",
        "$$ \\int_a^b h(x) dx = \\underset{N \\to \\infty}{lim}  \\frac{b-a}{N} \\sum_{i=1}^N h(x_i)$$\n",
        "\n",
        "Again lets consider the three important questions mentioned earlier:\n",
        "\n",
        "1. What are our random variables and how will we represent them?\n",
        "2. What distributions are our random variables drawn from?\n",
        "3. What is the function $f$ we are trying to estimate and how does it relate to our random variables?\n",
        "\n",
        "Lets implement this into a function together monteCarloIntegrate()"
      ],
      "metadata": {
        "id": "NdMQ8GXNBKfX"
      }
    },
    {
      "cell_type": "code",
      "source": [
        "# f is a numerical function that is passed in \n",
        "# a is the left endpoint\n",
        "# b is the right endpoint\n",
        "# N is the number of iterations\n",
        "\n",
        "# This function will return an np array 'results' that stores the estimated\n",
        "# integral at each iteration\n",
        "def monteCarloIntegrate(f,a,b,N):\n",
        "\n",
        "  # Numpy implementation\n",
        "  '''\n",
        "  x = np.random.uniform(a,b,N)\n",
        "  results = (b - a) * f(x)\n",
        "  return results\n",
        "  '''\n",
        "\n",
        "  # Loop implementation\n",
        "  results = []\n",
        "  for i in range(N):\n",
        "    x = np.random.uniform(a,b)\n",
        "    results.append((b - a) * f(x))\n",
        "\n",
        "  return np.array(results)\n",
        "\n",
        "\n"
      ],
      "metadata": {
        "id": "-YS5jGYgGpXE"
      },
      "execution_count": null,
      "outputs": []
    },
    {
      "cell_type": "markdown",
      "source": [
        "\n",
        "Now lets test our implentation on a few functions:\n",
        "\n",
        "$$ \\int_0^2 4x^3 dx $$\n",
        "\n",
        "$$ \\int_0^{2\\pi} x sin x dx $$\n",
        "\n"
      ],
      "metadata": {
        "id": "ulwZsvMJUl-o"
      }
    },
    {
      "cell_type": "code",
      "source": [
        "def f1(x):\n",
        "  return 4 * np.power(x,3)\n",
        "def g1(a,b):\n",
        "  return np.power(b,4) - np.power(a,4)\n",
        "\n",
        "def f2(x):\n",
        "  return x * np.sin(x)\n",
        "def g2(a,b):\n",
        "  return np.sin(b) - np.sin(a) + a * np.cos(a) - b * np.cos(b)\n"
      ],
      "metadata": {
        "id": "a_vauo_6UVUB"
      },
      "execution_count": null,
      "outputs": []
    },
    {
      "cell_type": "code",
      "source": [
        "ex1 = monteCarloIntegrate(f1,0,2,100000)\n",
        "print(f\"Estimate: {np.mean(ex1)}\")\n",
        "print(f\"Difference from true value: {np.mean(ex1) - g1(0,2)}\")\n",
        "\n",
        "\n",
        "ex2 = monteCarloIntegrate(f2,0,2 * np.pi,10000)\n",
        "print(f\"Estimate: {np.mean(ex2)}\")\n",
        "print(f\"Difference from true value: {np.mean(ex2) - g2(0,2 * np.pi)}\")\n",
        "\n"
      ],
      "metadata": {
        "colab": {
          "base_uri": "https://localhost:8080/"
        },
        "id": "CjZDKIsaUFdz",
        "outputId": "7abda4d7-1c58-4d21-e466-8909800df382"
      },
      "execution_count": null,
      "outputs": [
        {
          "output_type": "stream",
          "name": "stdout",
          "text": [
            "Estimate: 16.051238979224532\n",
            "Difference from true value: 0.051238979224532244\n",
            "Estimate: -5.976897521573837\n",
            "Difference from true value: 0.30628778560574954\n"
          ]
        }
      ]
    },
    {
      "cell_type": "markdown",
      "source": [
        "Lastly, lets look at the probability distributions of our outcomes. How do they compare to the outcome distributions we saw from the dice rolling examples:\n",
        "\n"
      ],
      "metadata": {
        "id": "93S3LCnyXiJ5"
      }
    },
    {
      "cell_type": "code",
      "source": [
        "print(\"Example 1:\")\n",
        "plt.hist(ex1,density=True)\n",
        "plt.show()\n",
        "\n",
        "print(\"Example 2:\")\n",
        "plt.hist(ex2,density=True)\n",
        "plt.show()"
      ],
      "metadata": {
        "colab": {
          "base_uri": "https://localhost:8080/",
          "height": 552
        },
        "id": "8RaUwhD5XuIL",
        "outputId": "65e6e3a1-3ca2-4fe9-a5e2-781c1c2bf3cb"
      },
      "execution_count": null,
      "outputs": [
        {
          "output_type": "stream",
          "name": "stdout",
          "text": [
            "Example 1:\n"
          ]
        },
        {
          "output_type": "display_data",
          "data": {
            "text/plain": [
              "<Figure size 432x288 with 1 Axes>"
            ],
            "image/png": "[encoded data removed]"
          },
          "metadata": {
            "needs_background": "light"
          }
        },
        {
          "output_type": "stream",
          "name": "stdout",
          "text": [
            "Example 2:\n"
          ]
        },
        {
          "output_type": "display_data",
          "data": {
            "text/plain": [
              "<Figure size 432x288 with 1 Axes>"
            ],
            "image/png": "[encoded data removed]"
          },
          "metadata": {
            "needs_background": "light"
          }
        }
      ]
    }
  ]
}